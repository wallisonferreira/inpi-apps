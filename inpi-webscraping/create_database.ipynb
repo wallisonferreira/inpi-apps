{
 "cells": [
  {
   "cell_type": "code",
   "execution_count": 8,
   "metadata": {},
   "outputs": [],
   "source": [
    "import requests\n",
    "import zipfile\n",
    "import os\n",
    "import sqlite3\n",
    "from io import BytesIO\n",
    "from bs4 import BeautifulSoup\n",
    "import pandas as pd\n",
    "import mysql.connector\n",
    "\n",
    "# Configuração do banco de dados\n",
    "DATABASE = 'revistas'\n",
    "\n",
    "def create_database():\n",
    "    print('Iniciando a criação do banco.')\n",
    "    # conn = sqlite3.connect(DATABASE)\n",
    "    # cursor = conn.cursor()\n",
    "\n",
    "    cnx = mysql.connector.connect(user='root', password='',\n",
    "                                  host='127.0.0.1',\n",
    "                                  database=DATABASE)\n",
    "    \n",
    "    cursor = cnx.cursor()\n",
    "    \n",
    "    # Criação da tabela com todos os campos necessários\n",
    "    cursor.execute(\"\"\"CREATE TABLE IF NOT EXISTS revistas (\n",
    "                        numero_revista TEXT,\n",
    "                        data_revista TEXT,\n",
    "                        numero_processo TEXT,\n",
    "                        data_deposito TEXT,\n",
    "                        data_concessao TEXT,\n",
    "                        data_vigencia TEXT,\n",
    "                        despachos TEXT,\n",
    "                        titulares TEXT,\n",
    "                        marca_nome TEXT,\n",
    "                        marca_apresentacao TEXT,\n",
    "                        marca_natureza TEXT,\n",
    "                        classes_vienna TEXT,\n",
    "                        lista_classe_nice TEXT,\n",
    "                        procurador TEXT\n",
    "                      )\"\"\")\n",
    "    \n",
    "    cnx.commit()\n",
    "    cnx.close()\n",
    "    #conn.close()\n",
    "    print('Banco de dados criado!')"
   ]
  },
  {
   "cell_type": "code",
   "execution_count": 9,
   "metadata": {},
   "outputs": [
    {
     "name": "stdout",
     "output_type": "stream",
     "text": [
      "Iniciando a criação do banco.\n"
     ]
    },
    {
     "ename": "ProgrammingError",
     "evalue": "2055: Cursor is not connected",
     "output_type": "error",
     "traceback": [
      "\u001b[1;31m---------------------------------------------------------------------------\u001b[0m",
      "\u001b[1;31mProgrammingError\u001b[0m                          Traceback (most recent call last)",
      "File \u001b[1;32mc:\\Users\\sanfe\\workbench\\inpi\\inpi-webscraping\\.venv\\Lib\\site-packages\\mysql\\connector\\cursor_cext.py:328\u001b[0m, in \u001b[0;36mCMySQLCursor.execute\u001b[1;34m(self, operation, params, multi)\u001b[0m\n\u001b[0;32m    327\u001b[0m     \u001b[38;5;28;01mif\u001b[39;00m \u001b[38;5;129;01mnot\u001b[39;00m \u001b[38;5;28mself\u001b[39m\u001b[38;5;241m.\u001b[39m_connection \u001b[38;5;129;01mor\u001b[39;00m \u001b[38;5;28mself\u001b[39m\u001b[38;5;241m.\u001b[39m_connection\u001b[38;5;241m.\u001b[39mis_closed():\n\u001b[1;32m--> 328\u001b[0m         \u001b[38;5;28;01mraise\u001b[39;00m ProgrammingError\n\u001b[0;32m    329\u001b[0m \u001b[38;5;28;01mexcept\u001b[39;00m (ProgrammingError, \u001b[38;5;167;01mReferenceError\u001b[39;00m) \u001b[38;5;28;01mas\u001b[39;00m err:\n",
      "\u001b[1;31mProgrammingError\u001b[0m: Unknown error",
      "\nThe above exception was the direct cause of the following exception:\n",
      "\u001b[1;31mProgrammingError\u001b[0m                          Traceback (most recent call last)",
      "Cell \u001b[1;32mIn[9], line 1\u001b[0m\n\u001b[1;32m----> 1\u001b[0m \u001b[43mcreate_database\u001b[49m\u001b[43m(\u001b[49m\u001b[43m)\u001b[49m\n",
      "Cell \u001b[1;32mIn[8], line 26\u001b[0m, in \u001b[0;36mcreate_database\u001b[1;34m()\u001b[0m\n\u001b[0;32m     23\u001b[0m cnx\u001b[38;5;241m.\u001b[39mclose()\n\u001b[0;32m     25\u001b[0m \u001b[38;5;66;03m# Criação da tabela com todos os campos necessários\u001b[39;00m\n\u001b[1;32m---> 26\u001b[0m \u001b[43mcursor\u001b[49m\u001b[38;5;241;43m.\u001b[39;49m\u001b[43mexecute\u001b[49m\u001b[43m(\u001b[49m\u001b[38;5;124;43m\"\"\"\u001b[39;49m\u001b[38;5;124;43mCREATE TABLE IF NOT EXISTS revistas (\u001b[39;49m\n\u001b[0;32m     27\u001b[0m \u001b[38;5;124;43m                    numero_revista TEXT,\u001b[39;49m\n\u001b[0;32m     28\u001b[0m \u001b[38;5;124;43m                    data_revista TEXT,\u001b[39;49m\n\u001b[0;32m     29\u001b[0m \u001b[38;5;124;43m                    numero_processo TEXT,\u001b[39;49m\n\u001b[0;32m     30\u001b[0m \u001b[38;5;124;43m                    data_deposito TEXT,\u001b[39;49m\n\u001b[0;32m     31\u001b[0m \u001b[38;5;124;43m                    data_concessao TEXT,\u001b[39;49m\n\u001b[0;32m     32\u001b[0m \u001b[38;5;124;43m                    data_vigencia TEXT,\u001b[39;49m\n\u001b[0;32m     33\u001b[0m \u001b[38;5;124;43m                    despachos TEXT,\u001b[39;49m\n\u001b[0;32m     34\u001b[0m \u001b[38;5;124;43m                    titulares TEXT,\u001b[39;49m\n\u001b[0;32m     35\u001b[0m \u001b[38;5;124;43m                    marca_nome TEXT,\u001b[39;49m\n\u001b[0;32m     36\u001b[0m \u001b[38;5;124;43m                    marca_apresentacao TEXT,\u001b[39;49m\n\u001b[0;32m     37\u001b[0m \u001b[38;5;124;43m                    marca_natureza TEXT,\u001b[39;49m\n\u001b[0;32m     38\u001b[0m \u001b[38;5;124;43m                    classes_vienna TEXT,\u001b[39;49m\n\u001b[0;32m     39\u001b[0m \u001b[38;5;124;43m                    lista_classe_nice TEXT,\u001b[39;49m\n\u001b[0;32m     40\u001b[0m \u001b[38;5;124;43m                    procurador TEXT\u001b[39;49m\n\u001b[0;32m     41\u001b[0m \u001b[38;5;124;43m                  )\u001b[39;49m\u001b[38;5;124;43m\"\"\"\u001b[39;49m\u001b[43m)\u001b[49m\n\u001b[0;32m     43\u001b[0m cnx\u001b[38;5;241m.\u001b[39mcommit()\n\u001b[0;32m     44\u001b[0m \u001b[38;5;66;03m#conn.close()\u001b[39;00m\n",
      "File \u001b[1;32mc:\\Users\\sanfe\\workbench\\inpi\\inpi-webscraping\\.venv\\Lib\\site-packages\\mysql\\connector\\cursor_cext.py:330\u001b[0m, in \u001b[0;36mCMySQLCursor.execute\u001b[1;34m(self, operation, params, multi)\u001b[0m\n\u001b[0;32m    328\u001b[0m         \u001b[38;5;28;01mraise\u001b[39;00m ProgrammingError\n\u001b[0;32m    329\u001b[0m \u001b[38;5;28;01mexcept\u001b[39;00m (ProgrammingError, \u001b[38;5;167;01mReferenceError\u001b[39;00m) \u001b[38;5;28;01mas\u001b[39;00m err:\n\u001b[1;32m--> 330\u001b[0m     \u001b[38;5;28;01mraise\u001b[39;00m ProgrammingError(\u001b[38;5;124m\"\u001b[39m\u001b[38;5;124mCursor is not connected\u001b[39m\u001b[38;5;124m\"\u001b[39m, \u001b[38;5;241m2055\u001b[39m) \u001b[38;5;28;01mfrom\u001b[39;00m \u001b[38;5;21;01merr\u001b[39;00m\n\u001b[0;32m    331\u001b[0m \u001b[38;5;28mself\u001b[39m\u001b[38;5;241m.\u001b[39m_connection\u001b[38;5;241m.\u001b[39mhandle_unread_result()\n\u001b[0;32m    333\u001b[0m stmt \u001b[38;5;241m=\u001b[39m \u001b[38;5;124mb\u001b[39m\u001b[38;5;124m\"\u001b[39m\u001b[38;5;124m\"\u001b[39m\n",
      "\u001b[1;31mProgrammingError\u001b[0m: 2055: Cursor is not connected"
     ]
    }
   ],
   "source": [
    "create_database()"
   ]
  }
 ],
 "metadata": {
  "kernelspec": {
   "display_name": ".venv",
   "language": "python",
   "name": "python3"
  },
  "language_info": {
   "codemirror_mode": {
    "name": "ipython",
    "version": 3
   },
   "file_extension": ".py",
   "mimetype": "text/x-python",
   "name": "python",
   "nbconvert_exporter": "python",
   "pygments_lexer": "ipython3",
   "version": "3.12.4"
  }
 },
 "nbformat": 4,
 "nbformat_minor": 2
}
